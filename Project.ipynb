{
 "cells": [
  {
   "cell_type": "code",
   "execution_count": 85,
   "metadata": {},
   "outputs": [],
   "source": [
    "import pennylane as qml\n",
    "from pennylane import numpy as np\n",
    "import matplotlib.pyplot as plt"
   ]
  },
  {
   "cell_type": "code",
   "execution_count": 72,
   "metadata": {},
   "outputs": [],
   "source": [
    "def prepare_random_state(a, b, c):\n",
    "    qml.RX(a, wires=0)\n",
    "    qml.RY(b, wires=0)\n",
    "    qml.RZ(c, wires=0)"
   ]
  },
  {
   "attachments": {},
   "cell_type": "markdown",
   "metadata": {},
   "source": [
    "Three-qubit bit flip error correction code with conventional error correction algorithm\n",
    "\n",
    "<img src=\"img/Quantum_error_correction_of_bit_flip_using_three_qubits.png\" width=\"800px\"> "
   ]
  },
  {
   "cell_type": "code",
   "execution_count": 73,
   "metadata": {},
   "outputs": [],
   "source": [
    "def simulate_3_qubit_flip(p, wires):\n",
    "    qml.CNOT(wires=[wires[0], wires[1]])\n",
    "    qml.CNOT(wires=[wires[0], wires[2]])\n",
    "\n",
    "    # simulate bit flip error on the qubits\n",
    "    qml.BitFlip(p, wires=wires[0])\n",
    "    qml.BitFlip(p, wires=wires[1])\n",
    "    qml.BitFlip(p, wires=wires[2])\n"
   ]
  },
  {
   "cell_type": "code",
   "execution_count": 74,
   "metadata": {},
   "outputs": [
    {
     "name": "stdout",
     "output_type": "stream",
     "text": [
      "[0.98758516 0.01241484]\n",
      "[0.77694837 0.22305163]\n"
     ]
    }
   ],
   "source": [
    "# Three-qubit bit flip code without QAE for benchmark\n",
    "\n",
    "dev = qml.device(\"default.mixed\", wires=3)\n",
    "\n",
    "@qml.qnode(dev)\n",
    "def ground_truth_3_qubit(a, b, c):\n",
    "    prepare_random_state(a, b, c)\n",
    "    return qml.probs(wires=0)\n",
    "\n",
    "\n",
    "@qml.qnode(dev)\n",
    "def qec_3_qubit_flip(p, a, b, c):\n",
    "    prepare_random_state(a, b, c)\n",
    "    \n",
    "    simulate_3_qubit_flip(p, [0,1,2])\n",
    "    # error correction circuit\n",
    "    qml.CNOT(wires=[0, 1])\n",
    "    qml.CNOT(wires=[0, 2])\n",
    "    qml.Toffoli(wires=[1,2,0])\n",
    "    return qml.probs(wires=0)\n",
    "\n",
    "print(ground_truth_3_qubit(0.1, 0.2, 0.3))\n",
    "print(qec_3_qubit_flip(0.3, 0.1, 0.2, 0.3))"
   ]
  },
  {
   "attachments": {},
   "cell_type": "markdown",
   "metadata": {},
   "source": [
    "three-qubit QAE\n",
    "\n",
    "<img src=\"img/3_qubit_qnn.png\" width=\"300px\"> "
   ]
  },
  {
   "cell_type": "code",
   "execution_count": 87,
   "metadata": {},
   "outputs": [
    {
     "name": "stdout",
     "output_type": "stream",
     "text": [
      "0.006215749939489079\n"
     ]
    }
   ],
   "source": [
    "n_samples= 100\n",
    "state = np.random.rand(3)\n",
    "p = 0.1\n",
    "dev = qml.device(\"default.mixed\", wires=6)\n",
    "X = np.random.randn(n_samples, 3)\n",
    "\n",
    "def loss(weights):\n",
    "    loss_sum = 0.0\n",
    "    for idx in range(n_samples):\n",
    "        state = X[idx]\n",
    "        true_expval = qae_ground_truth(state)\n",
    "        estimated_expval = three_qubit_qae(state, weights)\n",
    "        loss_sum += (estimated_expval - true_expval) ** 2\n",
    "    return loss_sum / n_samples\n",
    "\n",
    "@qml.qnode(dev)\n",
    "def qae_ground_truth(state):\n",
    "    prepare_random_state(state[0], state[1], state[2])\n",
    "    \n",
    "    simulate_3_qubit_flip(p, [0,1,2])\n",
    "\n",
    "    return qml.expval(qml.PauliZ(0) @ qml.PauliZ(1) @ qml.PauliZ(2))\n",
    "\n",
    "# Three-qubit QAE\n",
    "@qml.qnode(dev)\n",
    "def three_qubit_qae(state, weights):\n",
    "    # encoder reduces the information from three qubits into latent space of one qubit\n",
    "    # parameters are a, b, and, c which we will tune using gradient descent\n",
    "    # three qubits\n",
    "    \n",
    "    prepare_random_state(state[0], state[1], state[2])\n",
    "    simulate_3_qubit_flip(p, [0,1,2])\n",
    "\n",
    "\n",
    "    qml.RX(weights[0], wires=0)\n",
    "    qml.RY(weights[1], wires=1)\n",
    "    qml.RZ(weights[2], wires=2)\n",
    "    qml.CNOT(wires=[1, 0])\n",
    "    qml.CNOT(wires=[2, 0])\n",
    "\n",
    "    # decoder uses the encoded information from qubit 0 and decodes this back into three qubits\n",
    "    qml.RX(weights[3], wires=0)\n",
    "    qml.RY(weights[4], wires=3)\n",
    "    qml.RZ(weights[5], wires=4)\n",
    "    qml.Toffoli(wires=[0, 3, 4])\n",
    "    qml.Toffoli(wires=[3, 4, 0])\n",
    "    qml.Toffoli(wires=[4, 0, 3])\n",
    "    return qml.expval(qml.PauliZ(0) @ qml.PauliZ(3) @ qml.PauliZ(4))\n",
    "\n",
    "weights = np.random.rand(6, requires_grad=True)\n",
    "\n",
    "#print(three_qubit_qae(p, state, weights))\n",
    "print(loss(weights))"
   ]
  },
  {
   "cell_type": "code",
   "execution_count": 88,
   "metadata": {},
   "outputs": [
    {
     "name": "stdout",
     "output_type": "stream",
     "text": [
      "0\n",
      "1\n",
      "2\n",
      "3\n",
      "4\n",
      "5\n",
      "6\n",
      "7\n",
      "8\n",
      "9\n",
      "10\n",
      "11\n"
     ]
    }
   ],
   "source": [
    "theta = np.array(0., requires_grad=True)\n",
    "phi = np.array(0., requires_grad=True)\n",
    "\n",
    "opt = qml.GradientDescentOptimizer()\n",
    "\n",
    "num_its = 25\n",
    "running_costs = []\n",
    "\n",
    "for i in range(num_its):\n",
    "    weights, _cost = opt.step_and_cost(loss, weights)\n",
    "#     (theta, phi, zeta), _cost = opt.step_and_cost(circuit, theta, phi, zeta)\n",
    "    running_costs.append(_cost)\n",
    "    print(i)\n",
    "\n",
    "plt.plot(running_costs)"
   ]
  },
  {
   "attachments": {},
   "cell_type": "markdown",
   "metadata": {},
   "source": [
    "Five qubit code stabilizer measurement circuit\n",
    "\n",
    "\n",
    "<img src=\"img/Five_qubit_code_stabilizer_measurement_circuit.png\" width=\"800px\"> "
   ]
  }
 ],
 "metadata": {
  "kernelspec": {
   "display_name": "Python 3",
   "language": "python",
   "name": "python3"
  },
  "language_info": {
   "codemirror_mode": {
    "name": "ipython",
    "version": 3
   },
   "file_extension": ".py",
   "mimetype": "text/x-python",
   "name": "python",
   "nbconvert_exporter": "python",
   "pygments_lexer": "ipython3",
   "version": "3.11.0"
  },
  "orig_nbformat": 4,
  "vscode": {
   "interpreter": {
    "hash": "550421adcb9c4327fbfa0c4c7ee024be44d76599464badd93d1091e0f791a7e1"
   }
  }
 },
 "nbformat": 4,
 "nbformat_minor": 2
}
