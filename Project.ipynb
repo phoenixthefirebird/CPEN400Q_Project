{
 "cells": [
  {
   "cell_type": "code",
   "execution_count": 2,
   "metadata": {},
   "outputs": [],
   "source": [
    "import pennylane as qml\n",
    "from pennylane import numpy as np\n",
    "import matplotlib.pyplot as plt\n",
    "\n",
    "# if you need to use GPU accelerated simulation:\n",
    "# dev = qml.device(\"lightning.gpu\", wires=k)"
   ]
  },
  {
   "cell_type": "code",
   "execution_count": 3,
   "metadata": {},
   "outputs": [],
   "source": [
    "def prepare_random_state(a, b, c):\n",
    "    qml.RX(a, wires=0)\n",
    "    qml.RY(b, wires=0)\n",
    "    qml.RZ(c, wires=0)"
   ]
  },
  {
   "attachments": {},
   "cell_type": "markdown",
   "metadata": {},
   "source": [
    "## Three-qubit bit flip error correction code with conventional error correction algorithm\n",
    "\n",
    "<img src=\"img/Quantum_error_correction_of_bit_flip_using_three_qubits.png\" width=\"800px\"> "
   ]
  },
  {
   "cell_type": "code",
   "execution_count": 4,
   "metadata": {},
   "outputs": [],
   "source": [
    "def simulate_three_qubit_flip(p, wires):\n",
    "    qml.CNOT(wires=[wires[0], wires[1]])\n",
    "    qml.CNOT(wires=[wires[0], wires[2]])\n",
    "\n",
    "    # simulate bit flip error on the qubits\n",
    "    qml.BitFlip(p, wires=wires[0])\n",
    "    qml.BitFlip(p, wires=wires[1])\n",
    "    qml.BitFlip(p, wires=wires[2])\n"
   ]
  },
  {
   "cell_type": "code",
   "execution_count": 5,
   "metadata": {},
   "outputs": [
    {
     "name": "stdout",
     "output_type": "stream",
     "text": [
      "[0.98758516 0.01241484]\n",
      "[0.77694837 0.22305163]\n"
     ]
    }
   ],
   "source": [
    "# Three-qubit bit flip code without QAE for benchmark\n",
    "\n",
    "dev = qml.device(\"default.mixed\", wires=3)\n",
    "@qml.qnode(dev)\n",
    "def ground_truth_three_qubit(a, b, c):\n",
    "    prepare_random_state(a, b, c)\n",
    "    return qml.probs(wires=0)\n",
    "\n",
    "\n",
    "@qml.qnode(dev)\n",
    "def qec_three_qubit_flip(p, a, b, c):\n",
    "    prepare_random_state(a, b, c)\n",
    "    \n",
    "    simulate_three_qubit_flip(p, [0,1,2])\n",
    "    # error correction circuit\n",
    "    qml.CNOT(wires=[0, 1])\n",
    "    qml.CNOT(wires=[0, 2])\n",
    "    qml.Toffoli(wires=[1,2,0])\n",
    "    return qml.probs(wires=0)\n",
    "\n",
    "print(ground_truth_three_qubit(0.1, 0.2, 0.3))\n",
    "print(qec_three_qubit_flip(0.3, 0.1, 0.2, 0.3))"
   ]
  },
  {
   "attachments": {},
   "cell_type": "markdown",
   "metadata": {},
   "source": [
    "## General encoder decoder architecture setup"
   ]
  },
  {
   "cell_type": "code",
   "execution_count": null,
   "metadata": {},
   "outputs": [],
   "source": [
    "def encoder(weights, wires):\n",
    "    # encoder reduces the information from three qubits into latent space of one qubit\n",
    "    # parameters are a, b, and, c which we will tune using gradient descent\n",
    "    # three qubit\n",
    "    qml.ArbitraryUnitary(weights, wires=wires)\n",
    "\n",
    "decoder = qml.adjoint(encoder)"
   ]
  },
  {
   "attachments": {},
   "cell_type": "markdown",
   "metadata": {},
   "source": [
    "## three-qubit QAE\n",
    "\n",
    "<img src=\"img/3_qubit_qnn.png\" width=\"300px\"> "
   ]
  },
  {
   "attachments": {},
   "cell_type": "markdown",
   "metadata": {},
   "source": [
    "ground truth for three qubit "
   ]
  },
  {
   "cell_type": "code",
   "execution_count": 6,
   "metadata": {},
   "outputs": [
    {
     "name": "stdout",
     "output_type": "stream",
     "text": [
      "0.2662129960442969\n"
     ]
    }
   ],
   "source": [
    "@qml.qnode(dev)\n",
    "def qae_ground_truth_three_qubit(state):\n",
    "    prepare_random_state(state[0], state[1], state[2])\n",
    "    \n",
    "    qml.CNOT(wires=[0, 1]) # copy from 0 to 1\n",
    "    qml.CNOT(wires=[0, 2]) # copy from 0 to 2\n",
    "\n",
    "    return qml.expval(qml.PauliZ(0) @ qml.PauliZ(1) @ qml.PauliZ(2))"
   ]
  },
  {
   "cell_type": "code",
   "execution_count": null,
   "metadata": {},
   "outputs": [],
   "source": [
    "# Three-qubit QAE\n",
    "dev = qml.device(\"default.mixed\", wires=7)\n",
    "@qml.qnode(dev)\n",
    "def three_qubit_qae(state, weights):    \n",
    "    prepare_random_state(state[0], state[1], state[2])\n",
    "    simulate_three_qubit_flip(p, [0,1,2])\n",
    "\n",
    "\n",
    "    encoder(weights, [0, 1, 2, 3])\n",
    "\n",
    "    decoder(weights, [4, 5, 6, 3])\n",
    "    \n",
    "    return qml.expval(qml.PauliZ(4) @ qml.PauliZ(5) @ qml.PauliZ(6))"
   ]
  },
  {
   "attachments": {},
   "cell_type": "markdown",
   "metadata": {},
   "source": [
    "loss function for three qubit QAE"
   ]
  },
  {
   "cell_type": "code",
   "execution_count": null,
   "metadata": {},
   "outputs": [],
   "source": [
    "n_samples= 100\n",
    "state = np.random.rand(3)\n",
    "p = 0.1\n",
    "X = np.random.randn(n_samples, 3)\n",
    "\n",
    "# 3-qubit weights shape: 4 ^ 4 -1 = 255\n",
    "weights = np.random.randn(4**4-1, requires_grad=True)\n",
    "\n",
    "def loss_three_qubit_qae(weights):\n",
    "    loss_sum = 0.0\n",
    "    for idx in range(n_samples):\n",
    "        state = X[idx]\n",
    "        true_expval = qae_ground_truth_three_qubit(state)\n",
    "        estimated_expval = three_qubit_qae(state, weights)\n",
    "        loss_sum += (estimated_expval - true_expval) ** 2\n",
    "    return loss_sum / n_samples\n",
    "\n",
    "\n",
    "\n",
    "\n",
    "#print(three_qubit_qae(p, state, weights))\n",
    "print(loss_three_qubit_qae(weights))"
   ]
  },
  {
   "attachments": {},
   "cell_type": "markdown",
   "metadata": {},
   "source": [
    "let's train the three-qubit QAE"
   ]
  },
  {
   "cell_type": "code",
   "execution_count": 90,
   "metadata": {},
   "outputs": [
    {
     "name": "stdout",
     "output_type": "stream",
     "text": [
      "0\n",
      "1\n",
      "2\n",
      "3\n",
      "4\n",
      "5\n",
      "6\n",
      "7\n",
      "8\n",
      "9\n",
      "10\n",
      "11\n",
      "12\n",
      "13\n",
      "14\n",
      "15\n",
      "16\n",
      "17\n",
      "18\n",
      "19\n",
      "20\n",
      "21\n",
      "22\n",
      "23\n",
      "24\n"
     ]
    },
    {
     "data": {
      "text/plain": [
       "[<matplotlib.lines.Line2D at 0x2a4cd30f150>]"
      ]
     },
     "execution_count": 90,
     "metadata": {},
     "output_type": "execute_result"
    },
    {
     "data": {
      "image/png": "[encoded data removed]",
      "text/plain": [
       "<Figure size 640x480 with 1 Axes>"
      ]
     },
     "metadata": {},
     "output_type": "display_data"
    }
   ],
   "source": [
    "theta = np.array(0., requires_grad=True)\n",
    "phi = np.array(0., requires_grad=True)\n",
    "\n",
    "opt = qml.GradientDescentOptimizer()\n",
    "\n",
    "num_its = 25\n",
    "running_costs = []\n",
    "\n",
    "for i in range(num_its):\n",
    "    weights, _cost = opt.step_and_cost(loss_three_qubit_qae, weights)\n",
    "#     (theta, phi, zeta), _cost = opt.step_and_cost(circuit, theta, phi, zeta)\n",
    "    running_costs.append(_cost)\n",
    "    print(i)\n",
    "\n",
    "plt.plot(running_costs)\n"
   ]
  },
  {
   "attachments": {},
   "cell_type": "markdown",
   "metadata": {},
   "source": [
    "## Five qubit code stabilizer measurement circuit\n",
    "\n",
    "\n",
    "<img src=\"img/Five_qubit_code_stabilizer_measurement_circuit.png\" width=\"800px\"> "
   ]
  },
  {
   "cell_type": "code",
   "execution_count": null,
   "metadata": {},
   "outputs": [],
   "source": [
    "@qml.qnode(dev)\n",
    "def qae_ground_truth_five_qubit(state):\n",
    "    prepare_random_state(state[0], state[1], state[2])\n",
    "    \n",
    "    qml.CNOT(wires=[0, 1]) # copy from 0 to 1\n",
    "    qml.CNOT(wires=[0, 2]) # copy from 0 to 2\n",
    "    qml.CNOT(wires=[0, 3])\n",
    "    qml.CNOT(wires=[0, 4])\n",
    "\n",
    "    return qml.expval(qml.PauliZ(0) @ qml.PauliZ(1) @ qml.PauliZ(2) @ qml.PauliZ(3) @ qml.PauliZ(4))"
   ]
  },
  {
   "cell_type": "code",
   "execution_count": null,
   "metadata": {},
   "outputs": [],
   "source": [
    "# type needs to be one of \"X\", \"Y\", \"Z\"\n",
    "def simulate_5_qubit_flip(type, p, wires):\n",
    "    qml.CNOT(wires=[wires[0], wires[1]])\n",
    "    qml.CNOT(wires=[wires[0], wires[2]])\n",
    "    qml.CNOT(wires=[wires[0], wires[3]])\n",
    "    qml.CNOT(wires=[wires[0], wires[4]])\n",
    "\n",
    "    # simulate bit flip error on the qubits\n",
    "    if (type == \"X\" or type == \"Y\" or type == \"Z\"):\n",
    "        qml.PauliError(type, p, wires=wires[0])\n",
    "        qml.PauliError(type, p, wires=wires[1])\n",
    "        qml.PauliError(type, p, wires=wires[2])\n",
    "        qml.PauliError(type, p, wires=wires[3])\n",
    "        qml.PauliError(type, p, wires=wires[4])\n",
    "    else:\n",
    "        print(\"Please enter an valid type for Pauli Error in function simulate_5_qubit_flip\")"
   ]
  },
  {
   "cell_type": "code",
   "execution_count": null,
   "metadata": {},
   "outputs": [],
   "source": [
    "# Five-qubit QAE\n",
    "errorType = \"X\"\n",
    "\n",
    "dev = qml.device(\"default.mixed\", wires=11)\n",
    "@qml.qnode(dev)\n",
    "def five_qubit_qae(state, weights):    \n",
    "    prepare_random_state(state[0], state[1], state[2])\n",
    "    simulate_5_qubit_flip(errorType, p, [0,1,2,3,4])\n",
    "\n",
    "    encoder(weights, [0, 1, 2, 3, 4, 5])\n",
    "\n",
    "    decoder(weights, [6, 7, 8, 9, 10, 5])\n",
    "    \n",
    "    return qml.expval(qml.PauliZ(6) @ qml.PauliZ(7) @ qml.PauliZ(8) @ qml.PauliZ(9)  @ qml.PauliZ(10))"
   ]
  },
  {
   "cell_type": "code",
   "execution_count": null,
   "metadata": {},
   "outputs": [],
   "source": [
    "n_samples= 100\n",
    "state = np.random.rand(3)\n",
    "p = 0.1\n",
    "X = np.random.randn(n_samples, 3)\n",
    "\n",
    "# 5-qubit weights shape: 4 ^ 6 -1 = 4095\n",
    "weights = np.random.randn(4**6-1, requires_grad=True)\n",
    "\n",
    "def loss_five_qubit_qae(weights):\n",
    "    loss_sum = 0.0\n",
    "    for idx in range(n_samples):\n",
    "        state = X[idx]\n",
    "        true_expval = qae_ground_truth_five_qubit(state)\n",
    "        estimated_expval = five_qubit_qae(state, weights)\n",
    "        loss_sum += (estimated_expval - true_expval) ** 2\n",
    "    return loss_sum / n_samples\n",
    "\n",
    "print(loss_five_qubit_qae(weights))"
   ]
  },
  {
   "cell_type": "code",
   "execution_count": null,
   "metadata": {},
   "outputs": [],
   "source": [
    "# https://arxiv.org/abs/quant-ph/9705052"
   ]
  }
 ],
 "metadata": {
  "kernelspec": {
   "display_name": "Python 3",
   "language": "python",
   "name": "python3"
  },
  "language_info": {
   "codemirror_mode": {
    "name": "ipython",
    "version": 3
   },
   "file_extension": ".py",
   "mimetype": "text/x-python",
   "name": "python",
   "nbconvert_exporter": "python",
   "pygments_lexer": "ipython3",
   "version": "3.11.0"
  },
  "orig_nbformat": 4,
  "vscode": {
   "interpreter": {
    "hash": "550421adcb9c4327fbfa0c4c7ee024be44d76599464badd93d1091e0f791a7e1"
   }
  }
 },
 "nbformat": 4,
 "nbformat_minor": 2
}
